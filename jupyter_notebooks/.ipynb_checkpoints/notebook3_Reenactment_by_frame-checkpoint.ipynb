{
 "cells": [
  {
   "cell_type": "code",
   "execution_count": null,
   "id": "b7a439f0",
   "metadata": {},
   "outputs": [],
   "source": [
    "import os\n",
    "os.chdir(\"/home/yhding/Repo/NeuAvatar2/\")\n",
    "os.environ['CUDA_VISIBLE_DEVICES']='10'\n",
    "from nha.util.render import create_intrinsics_matrix\n",
    "import torch\n",
    "from nha.models.nha_optimizer import NHAOptimizer\n",
    "import numpy as np\n",
    "import matplotlib.pyplot as plt\n",
    "\n",
    "\n",
    "from nha.data.real import RealDataModule, tracking_results_2_data_batch\n",
    "from torch.utils.data.dataloader import DataLoader\n",
    "from tqdm import tqdm\n",
    "from nha.util.general import *\n",
    "from nha.util.render import create_intrinsics_matrix\n",
    "\n",
    "from pathlib import Path\n",
    "\n",
    "import cv2\n",
    "from pathlib import Path"
   ]
  },
  {
   "cell_type": "code",
   "execution_count": null,
   "id": "481a78a0",
   "metadata": {},
   "outputs": [],
   "source": [
    "# target ckpt\n",
    "target_ckpt = 'ckpts_and_data/nha/person_0004.ckpt'\n",
    "target_model = NHAOptimizer.load_from_checkpoint(target_ckpt).cuda().eval()\n",
    "\n",
    "# both tracking results\n",
    "driving_tracking_results_path = 'ckpts_and_data/tracking/person_0000.npz'\n",
    "# driving_tracking_results_path = 'OUTPUT_PATH/tracking_0/tracked_flame_params.npz'\n",
    "target_tracking_results_path = 'ckpts_and_data/tracking/person_0004.npz'\n",
    "driving_tracking_results = np.load(driving_tracking_results_path)\n",
    "target_tracking_results = np.load(target_tracking_results_path)\n",
    "\n",
    "\n",
    "frameid2folder = lambda x: f\"{x:04d}\""
   ]
  },
  {
   "cell_type": "code",
   "execution_count": null,
   "id": "c6c40e48",
   "metadata": {},
   "outputs": [],
   "source": [
    "@torch.no_grad()\n",
    "def frame_reenact(target_model: NHAOptimizer, target_tracking_results: dict,\n",
    "                   driving_tracking_results: dict, \n",
    "                  driving_frame_id=0, target_base_frame_id=0):\n",
    "    \n",
    "#     driving_path = Path('out_dir/frame_' + frameid2imagname(driving_frame_id))\n",
    "    driving_path = Path('ckpts_and_data/data/person_0000/frame_' + frameid2folder(driving_frame_id))\n",
    "\n",
    "    driver_frame = os.path.join(driving_path, 'image_0000.png')\n",
    "    rgba_driver = cv2.imread(driver_frame)\n",
    "    \n",
    "    base_target_sample = dict_2_device(tracking_results_2_data_batch(target_tracking_results, [target_base_frame_id]),\n",
    "                                       target_model.device)\n",
    "    base_target_params = target_model._create_flame_param_batch(base_target_sample)\n",
    "    base_driving_sample = dict_2_device(tracking_results_2_data_batch(driving_tracking_results, [target_base_frame_id]),\n",
    "                                       target_model.device)\n",
    "    base_driving_params = target_model._create_flame_param_batch(base_driving_sample)\n",
    "    \n",
    "    batch = dict_2_device(tracking_results_2_data_batch(driving_tracking_results, [driving_frame_id]), target_model.device)\n",
    "    batch[\"cam_intrinsic\"] = base_target_sample[\"cam_intrinsic\"].expand_as(batch[\"cam_intrinsic\"])\n",
    "    batch[\"cam_extrinsic\"] = base_target_sample[\"cam_extrinsic\"].expand_as(batch[\"cam_extrinsic\"])\n",
    "\n",
    "    rgba_target = target_model.predict_reenaction(batch, driving_model=target_model,\n",
    "                                                     base_target_params=base_target_params,\n",
    "                                                     base_driving_params=base_driving_params)        \n",
    "    \n",
    "    return rgba_driver, rgba_target\n",
    "    "
   ]
  },
  {
   "cell_type": "code",
   "execution_count": null,
   "id": "8ce444ff",
   "metadata": {},
   "outputs": [],
   "source": [
    "rgba_driver, rgba_target = frame_reenact(target_model, target_tracking_results, \n",
    "                                         driving_tracking_results, \n",
    "                                         driving_frame_id=30)\n",
    "## show range \n",
    "fig, axes = plt.subplots(ncols=2, figsize=(20,10))\n",
    "axes[0].imshow(cv2.cvtColor(rgba_driver, cv2.COLOR_BGR2RGB))\n",
    "axes[1].imshow(rgba_target[0,:3].cpu().permute(1,2,0))\n",
    "\n",
    "[a.axis(\"off\") for a in axes]\n",
    "plt.show()\n",
    "    "
   ]
  },
  {
   "cell_type": "code",
   "execution_count": null,
   "id": "040b9c1a",
   "metadata": {},
   "outputs": [],
   "source": []
  }
 ],
 "metadata": {
  "kernelspec": {
   "display_name": "Python 3 (ipykernel)",
   "language": "python",
   "name": "python3"
  },
  "language_info": {
   "codemirror_mode": {
    "name": "ipython",
    "version": 3
   },
   "file_extension": ".py",
   "mimetype": "text/x-python",
   "name": "python",
   "nbconvert_exporter": "python",
   "pygments_lexer": "ipython3",
   "version": "3.9.13"
  }
 },
 "nbformat": 4,
 "nbformat_minor": 5
}
